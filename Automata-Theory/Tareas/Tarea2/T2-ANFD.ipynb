{
 "cells": [
  {
   "cell_type": "markdown",
   "metadata": {},
   "source": [
    "# Teoría de Autómatas y Lenguajes\n",
    "\n",
    "## Tarea 2: Autómata Finito No Determinista\n",
    "\n",
    "### Instrucciones\n",
    "\n",
    "Considera la siguiente expresión regular que permite reconocer números binarios que empiezan con al menos un uno.\n",
    "\n",
    "1. Hacer el diagrama del AFND que permita reconocer esta expresión regular\n",
    "2. Hacer el diagrama que resulta de convertir el AFND en un AFD\n",
    "\n",
    "<center>\n",
    "\n",
    "`1(0|1)*`\n",
    "\n",
    "</center>\n",
    "\n",
    "#### Cadenas aceptadas:\n",
    "\n",
    "- 1\n",
    "- 10\n",
    "- 11\n",
    "- 1010111\n",
    "- 11111\n",
    "- 100000\n",
    "\n",
    "#### Cadenas no aceptadas:\n",
    "\n",
    "- 0\n",
    "- 0110\n",
    "- 01110\n",
    "- 01101110\n",
    "- 01\n",
    "\n"
   ]
  }
 ],
 "metadata": {
  "language_info": {
   "name": "python"
  }
 },
 "nbformat": 4,
 "nbformat_minor": 2
}
