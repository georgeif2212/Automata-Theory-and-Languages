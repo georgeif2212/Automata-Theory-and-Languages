{
 "cells": [
  {
   "cell_type": "markdown",
   "metadata": {},
   "source": [
    "# Expresiones regulares básicas\n",
    "\n",
    "- La cadena vacía es expresión regular e.r.\n",
    "- Cualquier símbolo del alfabeto es una e.r.\n",
    "- Concatenación: Si R1 y R2 es una e.r entonces R1R2 también es e.r.\n",
    "- Cerradura de Klein (estrella): SI R es e.r. entonces R* también es e.r.\n",
    "  - (es concatenar R cero o más veces). \n",
    "- Disyunción (OR): Si R1 y R2 son e.r. también lo es R1 | R2. \n",
    "- Agrupación: Si R es e.r. entonces (R) también lo es."
   ]
  },
  {
   "cell_type": "code",
   "execution_count": 27,
   "metadata": {},
   "outputs": [
    {
     "name": "stdout",
     "output_type": "stream",
     "text": [
      "<re.Match object; span=(0, 0), match=''> : accepted\n",
      "None : rejected\n"
     ]
    }
   ],
   "source": [
    "# importar módulo de expresiones regulares\n",
    "import re\n",
    "\n",
    "\n",
    "# definir función de python\n",
    "\n",
    "\n",
    "# Cuando se reconoce la cadena: <re.Match object; span=(0, 0), match=''>\n",
    "# Cuando no se reconoce la cadena: None\n",
    "def ev_exp_reg(exp_reg, string):\n",
    "    result = re.fullmatch(exp_reg, string)\n",
    "    if result:  # Si result contiene algo (es diferente de none)\n",
    "        print(result, \": accepted\")\n",
    "    else:\n",
    "        print(result, \": rejected\")\n",
    "\n",
    "\n",
    "# Reconocer cadenas vacías\n",
    "\n",
    "string = \"\"\n",
    "exp_reg = \"\"\n",
    "ev_exp_reg(exp_reg, string)\n",
    "\n",
    "# expresión regular como un solo símbolo\n",
    "exp_reg = \"a\"\n",
    "string = \"hola\"\n",
    "ev_exp_reg(exp_reg, string) # no reconoce la cadena string porque no cumple con la expresión regular, en este caso solo un símbolo \"a\"\n"
   ]
  },
  {
   "cell_type": "markdown",
   "metadata": {},
   "source": [
    "## Concatenación"
   ]
  },
  {
   "cell_type": "code",
   "execution_count": 28,
   "metadata": {},
   "outputs": [
    {
     "name": "stdout",
     "output_type": "stream",
     "text": [
      "<re.Match object; span=(0, 2), match='ab'> : accepted\n",
      "None : rejected\n"
     ]
    }
   ],
   "source": [
    "# expresión regular concatenación\n",
    "exp_reg = \"ab\" # se reconoce ab\n",
    "string = \"ab\"\n",
    "string2 =\"abc\"\n",
    "ev_exp_reg(exp_reg, string) # reconoce la cadena string porque cumple con la expresión regular \"ab\"\n",
    "ev_exp_reg(exp_reg, string2) # no reconoce la cadena string porque no cumple con la expresión regular, solo reconoce \"ab\""
   ]
  },
  {
   "cell_type": "markdown",
   "metadata": {},
   "source": [
    "## Cerradura de Klein"
   ]
  },
  {
   "cell_type": "code",
   "execution_count": 29,
   "metadata": {},
   "outputs": [
    {
     "name": "stdout",
     "output_type": "stream",
     "text": [
      "<re.Match object; span=(0, 2), match='aa'> : accepted\n",
      "<re.Match object; span=(0, 0), match=''> : accepted\n",
      "None : rejected\n",
      "<re.Match object; span=(0, 4), match='aaab'> : accepted\n"
     ]
    }
   ],
   "source": [
    "# ? cerradura de klein\n",
    "exp_reg = \"a*\"  # se reconoce 0 más veces la letra \"a\"\n",
    "string = \"aa\"\n",
    "string2 = \"\"\n",
    "string3 = \"aaab\"\n",
    "ev_exp_reg(exp_reg, string)  # reconoce la cadena\n",
    "ev_exp_reg(exp_reg, string2)  # reconoce la cadena string\n",
    "ev_exp_reg(exp_reg, string3)  # no reconoce la cadena string\n",
    "exp_reg = \"a+b\"  # se reconoce 0 más veces la letra \"a\"\n",
    "ev_exp_reg(exp_reg, string3)  # reconoce la cadena string"
   ]
  },
  {
   "cell_type": "markdown",
   "metadata": {},
   "source": [
    "## Agrupación"
   ]
  },
  {
   "cell_type": "code",
   "execution_count": 30,
   "metadata": {},
   "outputs": [
    {
     "name": "stdout",
     "output_type": "stream",
     "text": [
      "<re.Match object; span=(0, 2), match='ab'> : accepted\n",
      "None : rejected\n",
      "<re.Match object; span=(0, 6), match='ababab'> : accepted\n"
     ]
    }
   ],
   "source": [
    "# ? Agrupación\n",
    "\n",
    "exp_reg = \"(ab)*\"  # se reconoce 0 más veces la letra \"a\"\n",
    "string = \"ab\"\n",
    "string2 = \"(ab)\"\n",
    "string3 = \"ababab\"\n",
    "ev_exp_reg(exp_reg, string)  # reconoce la cadena\n",
    "ev_exp_reg(\n",
    "    exp_reg, string2\n",
    ")  # no reconoce la cadena porque los parentesis son metacaracter\n",
    "ev_exp_reg(exp_reg, string3)  # reconoce porque el patrón \"ab\" se repite 0 o más veces"
   ]
  },
  {
   "cell_type": "markdown",
   "metadata": {},
   "source": [
    "## Disyunción "
   ]
  },
  {
   "cell_type": "code",
   "execution_count": 31,
   "metadata": {},
   "outputs": [
    {
     "name": "stdout",
     "output_type": "stream",
     "text": [
      "<re.Match object; span=(0, 1), match='a'> : accepted\n",
      "<re.Match object; span=(0, 1), match='b'> : accepted\n",
      "None : rejected\n"
     ]
    }
   ],
   "source": [
    "# ? Disyunción\n",
    "\n",
    "exp_reg = \"a|b\"  # se reconoce 0 más veces la letra \"a\"\n",
    "string = \"a\"\n",
    "string2 = \"b\"\n",
    "string3 = \"ab\"\n",
    "ev_exp_reg(exp_reg, string)  # reconoce la cadena a\n",
    "ev_exp_reg(exp_reg, string2)  # reconoce la cadena b\n",
    "ev_exp_reg(exp_reg, string3)  # no  reconoce"
   ]
  },
  {
   "cell_type": "markdown",
   "metadata": {},
   "source": [
    "# Ejercicios"
   ]
  },
  {
   "cell_type": "markdown",
   "metadata": {},
   "source": [
    "### Expresión regular `R?`\n",
    "0 o una ocurrencia de la expresión regular `R`"
   ]
  },
  {
   "cell_type": "code",
   "execution_count": 32,
   "metadata": {},
   "outputs": [
    {
     "name": "stdout",
     "output_type": "stream",
     "text": [
      "<re.Match object; span=(0, 1), match='a'> : accepted\n",
      "<re.Match object; span=(0, 0), match=''> : accepted\n",
      "<re.Match object; span=(0, 1), match='a'> : accepted\n",
      "<re.Match object; span=(0, 0), match=''> : accepted\n"
     ]
    }
   ],
   "source": [
    "# Expresión regular avanzada\n",
    "exp_reg_adv= \"a?\"\n",
    "string = \"a\"\n",
    "string2 = \"\"\n",
    "\n",
    "ev_exp_reg(exp_reg_adv, string)\n",
    "ev_exp_reg(exp_reg_adv, string2)\n",
    "\n",
    "# Expresión regular equivalente\n",
    "exp_reg = \"|a\"  \n",
    "\n",
    "ev_exp_reg(exp_reg, string)\n",
    "ev_exp_reg(exp_reg, string2)"
   ]
  },
  {
   "cell_type": "markdown",
   "metadata": {},
   "source": [
    "### Expresión regular `R+`\n",
    "1 o más veces la expresión regular `R`"
   ]
  },
  {
   "cell_type": "code",
   "execution_count": 42,
   "metadata": {},
   "outputs": [
    {
     "name": "stdout",
     "output_type": "stream",
     "text": [
      "<re.Match object; span=(0, 4), match='aaaa'> : accepted\n",
      "<re.Match object; span=(0, 2), match='aa'> : accepted\n",
      "None : rejected\n",
      "<re.Match object; span=(0, 4), match='aaaa'> : accepted\n",
      "<re.Match object; span=(0, 2), match='aa'> : accepted\n",
      "None : rejected\n"
     ]
    }
   ],
   "source": [
    "# Expresión regular avanzada\n",
    "exp_reg_adv= \"a+\"\n",
    "string = \"aaaa\"\n",
    "string2 = \"aa\"\n",
    "string3 = \"\"\n",
    "\n",
    "ev_exp_reg(exp_reg_adv, string)\n",
    "ev_exp_reg(exp_reg_adv, string2)\n",
    "ev_exp_reg(exp_reg_adv, string3)\n",
    "\n",
    "# Expresión regular equivalente\n",
    "exp_reg = \"a(a*)\"  \n",
    "\n",
    "ev_exp_reg(exp_reg, string)\n",
    "ev_exp_reg(exp_reg, string2)\n",
    "ev_exp_reg(exp_reg, string3)"
   ]
  },
  {
   "cell_type": "markdown",
   "metadata": {},
   "source": [
    "### Expresión regular `R{3}`\n",
    "La expresión regular `R` concatenada 3 veces"
   ]
  },
  {
   "cell_type": "code",
   "execution_count": 34,
   "metadata": {},
   "outputs": [
    {
     "name": "stdout",
     "output_type": "stream",
     "text": [
      "<re.Match object; span=(0, 3), match='aaa'> : accepted\n",
      "None : rejected\n",
      "None : rejected\n",
      "<re.Match object; span=(0, 3), match='aaa'> : accepted\n",
      "None : rejected\n",
      "None : rejected\n"
     ]
    }
   ],
   "source": [
    "# Expresión regular avanzada\n",
    "exp_reg_adv= \"a{3}\"\n",
    "string = \"aaa\"\n",
    "string2 = \"aa\"\n",
    "string3 = \"\"\n",
    "\n",
    "ev_exp_reg(exp_reg_adv, string)\n",
    "ev_exp_reg(exp_reg_adv, string2)\n",
    "ev_exp_reg(exp_reg_adv, string3)\n",
    "\n",
    "# Expresión regular equivalente\n",
    "exp_reg = \"(aaa)\"  \n",
    "\n",
    "ev_exp_reg(exp_reg, string)\n",
    "ev_exp_reg(exp_reg, string2)\n",
    "ev_exp_reg(exp_reg_adv, string3)"
   ]
  },
  {
   "cell_type": "markdown",
   "metadata": {},
   "source": [
    "### Expresión regular `R{3,5}`\n",
    "La expresión regular `R` concatenada 3, 4 o 5 veces "
   ]
  },
  {
   "cell_type": "code",
   "execution_count": 35,
   "metadata": {},
   "outputs": [
    {
     "name": "stdout",
     "output_type": "stream",
     "text": [
      "<re.Match object; span=(0, 3), match='aaa'> : accepted\n",
      "<re.Match object; span=(0, 5), match='aaaaa'> : accepted\n",
      "<re.Match object; span=(0, 4), match='aaaa'> : accepted\n",
      "<re.Match object; span=(0, 3), match='aaa'> : accepted\n",
      "<re.Match object; span=(0, 5), match='aaaaa'> : accepted\n",
      "<re.Match object; span=(0, 4), match='aaaa'> : accepted\n"
     ]
    }
   ],
   "source": [
    "# Expresión regular avanzada\n",
    "exp_reg_adv= \"a{3,5}\"\n",
    "string = \"aaa\"\n",
    "string2 = \"aaaaa\"\n",
    "string3 = \"aaaa\"\n",
    "\n",
    "ev_exp_reg(exp_reg_adv, string)\n",
    "ev_exp_reg(exp_reg_adv, string2)\n",
    "ev_exp_reg(exp_reg_adv, string3)\n",
    "\n",
    "# Expresión regular equivalente\n",
    "exp_reg = \"(aaa)|(aaaa)|(aaaaa)\"  \n",
    "\n",
    "ev_exp_reg(exp_reg, string)\n",
    "ev_exp_reg(exp_reg, string2)\n",
    "ev_exp_reg(exp_reg_adv, string3)"
   ]
  },
  {
   "cell_type": "markdown",
   "metadata": {},
   "source": [
    "### Expresión regular `R{3,}`\n",
    "La expresión regular `R` concatenada 3 veces o más"
   ]
  },
  {
   "cell_type": "code",
   "execution_count": 36,
   "metadata": {},
   "outputs": [
    {
     "name": "stdout",
     "output_type": "stream",
     "text": [
      "<re.Match object; span=(0, 3), match='aaa'> : accepted\n",
      "<re.Match object; span=(0, 7), match='aaaaaaa'> : accepted\n",
      "<re.Match object; span=(0, 4), match='aaaa'> : accepted\n",
      "<re.Match object; span=(0, 3), match='aaa'> : accepted\n",
      "<re.Match object; span=(0, 7), match='aaaaaaa'> : accepted\n",
      "<re.Match object; span=(0, 4), match='aaaa'> : accepted\n"
     ]
    }
   ],
   "source": [
    "# Expresión regular avanzada\n",
    "exp_reg_adv= \"a{3,}\"\n",
    "string = \"aaa\"\n",
    "string2 = \"aaaaaaa\"\n",
    "string3 = \"aaaa\"\n",
    "\n",
    "ev_exp_reg(exp_reg_adv, string)\n",
    "ev_exp_reg(exp_reg_adv, string2)\n",
    "ev_exp_reg(exp_reg_adv, string3)\n",
    "\n",
    "# Expresión regular equivalente\n",
    "exp_reg = \"(aaa*)\"  \n",
    "\n",
    "ev_exp_reg(exp_reg, string)\n",
    "ev_exp_reg(exp_reg, string2)\n",
    "ev_exp_reg(exp_reg_adv, string3)"
   ]
  },
  {
   "cell_type": "markdown",
   "metadata": {},
   "source": [
    "### Expresión regular `\\d`\n",
    "1 sólo digito (puede ser 0,1,2,3,4,5,6,7,8,9)"
   ]
  },
  {
   "cell_type": "code",
   "execution_count": 38,
   "metadata": {},
   "outputs": [
    {
     "name": "stdout",
     "output_type": "stream",
     "text": [
      "<re.Match object; span=(0, 1), match='1'> : accepted\n",
      "<re.Match object; span=(0, 1), match='2'> : accepted\n",
      "<re.Match object; span=(0, 1), match='0'> : accepted\n",
      "<re.Match object; span=(0, 1), match='1'> : accepted\n",
      "<re.Match object; span=(0, 1), match='2'> : accepted\n",
      "<re.Match object; span=(0, 1), match='0'> : accepted\n"
     ]
    }
   ],
   "source": [
    "# Expresión regular avanzada\n",
    "exp_reg_adv= \"\\d\"\n",
    "string = \"1\"\n",
    "string2 = \"2\"\n",
    "string3 = \"\"\n",
    "\n",
    "ev_exp_reg(exp_reg_adv, string)\n",
    "ev_exp_reg(exp_reg_adv, string2)\n",
    "ev_exp_reg(exp_reg_adv, string3)\n",
    "\n",
    "# Expresión regular equivalente\n",
    "exp_reg = \"1|2|3|4|5|6|7|8|9|0\"  \n",
    "\n",
    "ev_exp_reg(exp_reg, string)\n",
    "ev_exp_reg(exp_reg, string2)\n",
    "ev_exp_reg(exp_reg_adv, string3)"
   ]
  },
  {
   "cell_type": "markdown",
   "metadata": {},
   "source": [
    "### Expresión regular `[abc]`\n",
    "Las letras `a`, `b`, `c`"
   ]
  },
  {
   "cell_type": "code",
   "execution_count": 39,
   "metadata": {},
   "outputs": [
    {
     "name": "stdout",
     "output_type": "stream",
     "text": [
      "<re.Match object; span=(0, 1), match='a'> : accepted\n",
      "<re.Match object; span=(0, 1), match='b'> : accepted\n",
      "None : rejected\n",
      "<re.Match object; span=(0, 1), match='a'> : accepted\n",
      "<re.Match object; span=(0, 1), match='b'> : accepted\n",
      "None : rejected\n"
     ]
    }
   ],
   "source": [
    "# Expresión regular avanzada\n",
    "exp_reg_adv= \"[abc]\"\n",
    "string = \"a\"\n",
    "string2 = \"b\"\n",
    "string3 = \"ab\"\n",
    "\n",
    "ev_exp_reg(exp_reg_adv, string)\n",
    "ev_exp_reg(exp_reg_adv, string2)\n",
    "ev_exp_reg(exp_reg_adv, string3)\n",
    "\n",
    "# Expresión regular equivalente\n",
    "exp_reg = \"a|b|c\"  \n",
    "\n",
    "ev_exp_reg(exp_reg, string)\n",
    "ev_exp_reg(exp_reg, string2)\n",
    "ev_exp_reg(exp_reg_adv, string3)"
   ]
  }
 ],
 "metadata": {
  "kernelspec": {
   "display_name": "Python 3",
   "language": "python",
   "name": "python3"
  },
  "language_info": {
   "codemirror_mode": {
    "name": "ipython",
    "version": 3
   },
   "file_extension": ".py",
   "mimetype": "text/x-python",
   "name": "python",
   "nbconvert_exporter": "python",
   "pygments_lexer": "ipython3",
   "version": "3.11.5"
  }
 },
 "nbformat": 4,
 "nbformat_minor": 2
}
