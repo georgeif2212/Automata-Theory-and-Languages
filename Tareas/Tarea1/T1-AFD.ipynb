{
 "cells": [
  {
   "cell_type": "markdown",
   "metadata": {},
   "source": [
    "# Teoría de Autómatas y Lenguajes\n",
    "\n",
    "## Tarea 1: Autómata Finito Determinista\n",
    "\n",
    "AFD que reconozca cadenas binarias que tengan un número par de 0's y que tengan un número par de 1's. Ejemplo:\n",
    "<center>\n",
    "\n",
    "| Cadena | Aceptada |\n",
    "|:------:|:--------:|\n",
    "| 0011 | Sí |\n",
    "| 00 | Sí |\n",
    "| 001 | No |\n",
    "| 00011 | No |\n",
    "| 000111 | No |\n",
    "|     | Sí |\n",
    "\n",
    "</center>\n",
    "\n",
    "### Matriz de estados\n",
    "\n",
    "El estado q0 es tanto inicial como final.\n",
    "\n",
    "<center>\n",
    "\n",
    "| Estado | 0 | 1 |\n",
    "|:-:|:-:|:-:|\n",
    "| q0 | q1 | q2 |\n",
    "| q1 | q0 | q3 |\n",
    "| q2 | q3 | q0 |\n",
    "| q3 | q2 | q1 |\n",
    "\n",
    "</center>\n",
    "\n",
    "### Código"
   ]
  },
  {
   "cell_type": "code",
   "execution_count": 1,
   "metadata": {},
   "outputs": [
    {
     "name": "stdout",
     "output_type": "stream",
     "text": [
      "'0011' \tSí es aceptada.\n",
      "'00' \tSí es aceptada.\n",
      "'001' \tNo es aceptada.\n",
      "'00011' \tNo es aceptada.\n",
      "'000111' \tNo es aceptada.\n",
      "'' \tSí es aceptada.\n"
     ]
    }
   ],
   "source": [
    "delta = {\n",
    "    (\"q0\", \"0\"): \"q1\",\n",
    "    (\"q0\", \"1\"): \"q2\",\n",
    "    (\"q1\", \"0\"): \"q0\",\n",
    "    (\"q1\", \"1\"): \"q3\",\n",
    "    (\"q2\", \"0\"): \"q3\",\n",
    "    (\"q2\", \"1\"): \"q0\",\n",
    "    (\"q3\", \"0\"): \"q2\",\n",
    "    (\"q3\", \"1\"): \"q1\",\n",
    "}\n",
    "\n",
    "\n",
    "def test_string(string):\n",
    "    final_state = \"q0\"\n",
    "    state = \"q0\"\n",
    "\n",
    "    for character in string:\n",
    "        state = delta[state, character]\n",
    "\n",
    "    if final_state == state:\n",
    "        print(f\"'{string}' \\tSí es aceptada.\")\n",
    "    else:\n",
    "        print(f\"'{string}' \\tNo es aceptada.\")\n",
    "\n",
    "\n",
    "strings = [\"0011\", \"00\", \"001\", \"00011\", \"000111\", \"\"]\n",
    "\n",
    "for string in strings:\n",
    "    test_string(string)\n"
   ]
  }
 ],
 "metadata": {
  "kernelspec": {
   "display_name": "Python 3",
   "language": "python",
   "name": "python3"
  },
  "language_info": {
   "codemirror_mode": {
    "name": "ipython",
    "version": 3
   },
   "file_extension": ".py",
   "mimetype": "text/x-python",
   "name": "python",
   "nbconvert_exporter": "python",
   "pygments_lexer": "ipython3",
   "version": "3.11.5"
  }
 },
 "nbformat": 4,
 "nbformat_minor": 2
}
